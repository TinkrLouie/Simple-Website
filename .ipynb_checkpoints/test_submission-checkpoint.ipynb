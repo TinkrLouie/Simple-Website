{
 "cells": [
  {
   "cell_type": "markdown",
   "metadata": {},
   "source": [
    "This notebook provides functions that you should use to test your submission.\n",
    "\n",
    "Save this file in a folder alongside a folder ADS that contains the files ``q1.ipynb``, ``q2.ipynb``, ``q3.ipynb``, ``q4.ipynb``, ``q5.ipynb`` and ``q8.ipynb``.  Then run each cell below that will test whether the files are present and that you have provided the functions required.   It will also run some basic tests on these functions.\n",
    "\n",
    "As the tests done are on only small inputs, the result of each test should appear almost instantly.  If not, perhaps you have some unnecessary content in the file that can be deleted.  Also nothing should be printed other than the report of the tests (since none of your solutions need to include print statements)."
   ]
  },
  {
   "cell_type": "markdown",
   "metadata": {},
   "source": [
    "## Test for Question 1"
   ]
  },
  {
   "cell_type": "code",
   "execution_count": 1,
   "metadata": {},
   "outputs": [
    {
     "name": "stdout",
     "output_type": "stream",
     "text": [
      "found the file q1.ipynb\n",
      "the function arrayupdate works correctly on a simple test\n"
     ]
    }
   ],
   "source": [
    "import os\n",
    "\n",
    "class Node:\n",
    "    def __init__(self, data, before=None, after=None):\n",
    "        self.data = data\n",
    "        self.before = before\n",
    "        self.after = after\n",
    "\n",
    "class Stack:\n",
    "    def __init__(self):\n",
    "        self.head = None\n",
    "    def isEmpty(self):\n",
    "        return self.head == None\n",
    "    def pop(self):\n",
    "        output = self.head.data\n",
    "        self.head = self.head.before\n",
    "        return output\n",
    "    def push(self, data):\n",
    "        self.head = Node(data, self.head)\n",
    "    def top(self):\n",
    "        return self.head.data\n",
    "\n",
    "if os.path.exists(\"ADS/q1.ipynb\"):\n",
    "    print (\"found the file q1.ipynb\")\n",
    "\n",
    "    try:\n",
    "        %run \"ADS/q1.ipynb\"\n",
    "\n",
    "        assert arrayupdate([1,5,9,2,8,6]) == [0,1,5,1,2,2]\n",
    "        print (\"the function arrayupdate works correctly on a simple test\")\n",
    "        \n",
    "    except NameError:\n",
    "        print (\"The required function arrayupdate has not been found in q1.ipynb\")\n",
    "        \n",
    "    except AssertionError:\n",
    "        if type(arrayupdate([1,5,9,2,8,6])) != list:\n",
    "            print (\"arrayupdate should return a list, but instead returns a \", type(arrayupdate([1,5,9,2,8,6])))\n",
    "        elif len(arrayupdate([1,5,9,2,8,6])) != 6:\n",
    "            print (\"arrayupdate should return a list that is the same length as the input, but on input [1,5,9,2,8,6] it returned a list of length \", len(arrayupdate([1,5,9,2,8,6])))\n",
    "        else:\n",
    "            print (\"arrayupdate successfully returns an array of the expected length although on the single input tested, [1,5,9,2,8,6], it did not return the correct output, [1,5,9,2,8,6]\")\n",
    "        \n",
    "    except:\n",
    "        print(\"the function arrayupdate was found but something went wrong when it was tested\")\n",
    "        \n",
    "else:\n",
    "    print (\"can't find the file q1.ipynb\")"
   ]
  },
  {
   "cell_type": "markdown",
   "metadata": {},
   "source": [
    "## Test for Question 2"
   ]
  },
  {
   "cell_type": "code",
   "execution_count": 7,
   "metadata": {},
   "outputs": [
    {
     "name": "stdout",
     "output_type": "stream",
     "text": [
      "found the file q2.ipynb\n",
      "The required function hash has not been found in q2.ipynb\n"
     ]
    }
   ],
   "source": [
    "import os\n",
    "\n",
    "class Node:\n",
    "    def __init__(self, data):\n",
    "        self.data = data\n",
    "        self.next = None\n",
    "\n",
    "class LinkedList:\n",
    "    def __init__(self):\n",
    "        self.head = None\n",
    "        self.tail = None\n",
    "        self.size = 0\n",
    "    def check(self, data_list):\n",
    "        contents = []\n",
    "        node = self.head\n",
    "        while node != None:\n",
    "            contents += [node.data]\n",
    "            node = node.next\n",
    "        return contents == data_list\n",
    "\n",
    "class Hash_Table():\n",
    "    \"\"\"implements a hash table of size k with all entries empty linked lists\n",
    "\n",
    "    for a Hash_Table h:\n",
    "        h.lookup(pos) returns the linked list in position pos\n",
    "        h.check(data) checks that the current content is the same as data\n",
    "        h.print_table prints a representation of h\n",
    "    \"\"\"\n",
    "    def __init__(self, k):\n",
    "        self.__table = []\n",
    "        self.__size = k\n",
    "        for idx in range(k):\n",
    "            L = LinkedList()\n",
    "            self.__table += [L]\n",
    "    def lookup(self, pos):\n",
    "        return self.__table[pos]\n",
    "    def __contents(self):\n",
    "        buckets = []\n",
    "        for idx in range(self.__size):\n",
    "            bucket = []\n",
    "            node = self.__table[idx].head\n",
    "            while node != None:\n",
    "                bucket += [node.data]\n",
    "                node = node.next\n",
    "            buckets += [bucket]\n",
    "        return buckets            \n",
    "    def check(self, data):\n",
    "        if len(data) != self.__size: return False\n",
    "        for idx in range(self.__size):\n",
    "            bucket = self.__contents()[idx][:]\n",
    "            bucket.sort()\n",
    "            bucket2 = data[idx][:]\n",
    "            bucket2.sort()\n",
    "            if bucket != bucket2: return False\n",
    "        return True\n",
    "    def print_table(self):\n",
    "        print (self.__contents())\n",
    "\n",
    "if os.path.exists(\"ADS/q2.ipynb\"):\n",
    "    print (\"found the file q2.ipynb\")\n",
    "    try:\n",
    "        %run \"ADS/q2.ipynb\"\n",
    "        assert hash(['+0','+1','+2','+3','+4','+5','+6','+7','+8','+9','+10','+11','+12']).check([[11], [5], [12], [6], [0], [7], [1], [8], [2], [9], [3], [10], [4]])\n",
    "        print (\"the function hash works correctly on a simple test\")\n",
    "    except NameError:\n",
    "        print (\"The required function hash has not been found in q2.ipynb\")\n",
    "    except AssertionError:\n",
    "        if (type(hash(['+0','+1','+2','+3','+4','+5','+6','+7','+8','+9','+10','+11','+12'])) != Hash_Table):\n",
    "            print (\"hash should return a hash table, but instead returns a \", (type(hash(['+0','+1','+2','+3','+4','+5','+6','+7','+8','+9','+10','+11','+12']))))\n",
    "        else:\n",
    "            print (\"hash successfully returns a hash table although on the single input tested, ['+0','+1','+2','+3','+4','+5','+6','+7','+8','+9','+10','+11','+12'], it did not return the correct output\")\n",
    "            print (\"hash(['+0','+1','+2','+3','+4','+5','+6','+7','+8','+9','+10','+11','+12']).print_table() should return [[11], [5], [12], [6], [0], [7], [1], [8], [2], [9], [3], [10], [4]]\")\n",
    "    except:\n",
    "        print(\"the function hash was found but something went wrong when it was tested\")\n",
    "\n",
    "else:\n",
    "    print (\"can't find the file q2.ipynb\")\n"
   ]
  },
  {
   "cell_type": "markdown",
   "metadata": {},
   "source": [
    "## Test for Question 3"
   ]
  },
  {
   "cell_type": "code",
   "execution_count": 8,
   "metadata": {},
   "outputs": [
    {
     "name": "stdout",
     "output_type": "stream",
     "text": [
      "found the file q3.ipynb\n",
      "the function chop works correctly on a simple test\n"
     ]
    }
   ],
   "source": [
    "import os\n",
    "\n",
    "if os.path.exists(\"ADS/q3.ipynb\"):\n",
    "    print (\"found the file q3.ipynb\")\n",
    "    try:\n",
    "        %run \"ADS/q3.ipynb\"\n",
    "        assert chop('abacdc') == 4\n",
    "        print (\"the function chop works correctly on a simple test\")\n",
    "    except NameError:\n",
    "        print (\"The required function chop has not been found in q3.ipynb\")\n",
    "    except AssertionError:\n",
    "        if type(chop('abacdc')) != int:\n",
    "            print (\"chop should return an int, but instead returns a \", type(chop('abacdc')))\n",
    "        else:\n",
    "            print (\"chop successfully returns an int although on the single input tested, 'abacdc', it did not return the correct output, 4\")\n",
    "    except:\n",
    "        print(\"the function chop was found but something went wrong when it was tested\")\n",
    "    \n",
    "else:\n",
    "    print (\"can't find the file q3.ipynb\")\n"
   ]
  },
  {
   "cell_type": "markdown",
   "metadata": {},
   "source": [
    "## Test for Question 4"
   ]
  },
  {
   "cell_type": "code",
   "execution_count": 9,
   "metadata": {},
   "outputs": [
    {
     "name": "stdout",
     "output_type": "stream",
     "text": [
      "found the file q4.ipynb\n",
      "0\n",
      "0\n",
      "balanced successfully returns an int although on the single input tested, 4, it did not return the correct output, 2\n"
     ]
    }
   ],
   "source": [
    "import os\n",
    "\n",
    "if os.path.exists(\"ADS/q4.ipynb\"):\n",
    "    print (\"found the file q4.ipynb\")\n",
    "\n",
    "    try:\n",
    "        %run \"ADS/q4.ipynb\"\n",
    "        assert balanced(4) == 2\n",
    "        print (\"the function balanced works correctly on a simple test\")\n",
    "    except NameError:\n",
    "        print (\"The required function balanced has not been found in q4.ipynb\")\n",
    "    except AssertionError:\n",
    "        if type(balanced(4)) != int:\n",
    "            print (\"balanced should return an int, but instead returns a \", type(balanced(4)))\n",
    "        else:\n",
    "            print (\"balanced successfully returns an int although on the single input tested, 4, it did not return the correct output, 2\")\n",
    "    except:\n",
    "        print(\"the function balanced was found but something went wrong when it was tested\")\n",
    "    \n",
    "else:\n",
    "    print (\"can't find the file q4.ipynb\")\n"
   ]
  },
  {
   "cell_type": "markdown",
   "metadata": {},
   "source": [
    "## Test for Question 5"
   ]
  },
  {
   "cell_type": "code",
   "execution_count": 5,
   "metadata": {},
   "outputs": [
    {
     "name": "stdout",
     "output_type": "stream",
     "text": [
      "can't find the file q5.ipynb\n"
     ]
    }
   ],
   "source": [
    "import os\n",
    "\n",
    "\n",
    "class Node:\n",
    "    def __init__(self, data, before=None, after=None):\n",
    "        self.data = data\n",
    "        self.before = before\n",
    "        self.after = after\n",
    "\n",
    "class Stack:\n",
    "    def __init__(self):\n",
    "        self.head = None\n",
    "    def isEmpty(self):\n",
    "        return self.head == None\n",
    "    def pop(self):\n",
    "        output = self.head.data\n",
    "        self.head = self.head.before\n",
    "        return output\n",
    "    def push(self, data):\n",
    "        self.head = Node(data, self.head)\n",
    "    def top(self):\n",
    "        return self.head.data\n",
    "\n",
    "def match(string):\n",
    "    \"\"\"given a string, checks that the brackets are\n",
    "    correctly nested\"\"\"\n",
    "    left, right, pairs = \"({[\", \")}]\", [\"()\", \"{}\", \"[]\"]\n",
    "    s = Stack()\n",
    "    for char in string:\n",
    "        if char in left:\n",
    "            s.push(char)\n",
    "        if char in right:\n",
    "            if s.isEmpty() == True:\n",
    "                print (char + \" has no match\")\n",
    "                return False\n",
    "            char2 = s.pop()\n",
    "            if char2 + char not in pairs:\n",
    "                print (char2 + \" and \" + char + \" do not match\")\n",
    "                return False\n",
    "    if s.isEmpty() == False:\n",
    "        print (s.pop() + \" has no match\")\n",
    "        return False\n",
    "    print (\"everything matches\")\n",
    "    return True\n",
    "\n",
    "if os.path.exists(\"ADS/q5.ipynb\"):\n",
    "    print (\"found the file q5.ipynb\")\n",
    "\n",
    "    try:\n",
    "        %run \"ADS/q5.ipynb\"\n",
    "        assert brackets(\"*()][{*]\") == True\n",
    "        print (\"the function balanced works correctly on a simple test\")\n",
    "    except NameError:\n",
    "        print (\"The required function brackets has not been found in q5.ipynb\")\n",
    "    except AssertionError:\n",
    "        if type(brackets(\"*()][{*]\")) != bool:\n",
    "            print (\"brackets should return a bool, but instead returns a \", type(brackets(\"*()][{*]\")))\n",
    "        else:\n",
    "            print (\"balanced successfully returns an bool although on the single input tested, *()][{*], it did not return the correct output, True\")\n",
    "    except:\n",
    "        print(\"the function brackets was found but something went wrong when it was tested\")\n",
    "    \n",
    "else:\n",
    "    print (\"can't find the file q5.ipynb\")\n"
   ]
  },
  {
   "cell_type": "markdown",
   "metadata": {},
   "source": [
    "## Test for Question 8"
   ]
  },
  {
   "cell_type": "code",
   "execution_count": 6,
   "metadata": {
    "scrolled": true
   },
   "outputs": [
    {
     "name": "stdout",
     "output_type": "stream",
     "text": [
      "can't find the file q8.ipynb\n"
     ]
    }
   ],
   "source": [
    "import os\n",
    "\n",
    "def Merge(A,B):\n",
    "    \"\"\" merges the two sorted lists A and B into one and return it \"\"\"\n",
    "    result = []\n",
    "    while A and B:\n",
    "        if A[0]<B[0]:\n",
    "            result.append(A.pop(0))\n",
    "        else:\n",
    "            result.append(B.pop(0))\n",
    "\n",
    "    if A:\n",
    "        result.extend(A)\n",
    "    if B:\n",
    "        result.extend(B)\n",
    "    return result\n",
    "\n",
    "def MergeSort(A):\n",
    "    \"\"\" applies MergeSort to sort the list A and return \"\"\"\n",
    "\n",
    "    if len(A)<=1:\n",
    "        return A\n",
    "\n",
    "    mid = len(A) // 2\n",
    "\n",
    "    left = MergeSort(A[:mid])\n",
    "    right = MergeSort(A[mid:])\n",
    "    result = Merge(left,right)\n",
    "\n",
    "    return result\n",
    "\n",
    "if os.path.exists(\"ADS/q8.ipynb\"):\n",
    "    print (\"found the file q8.ipynb\")\n",
    "\n",
    "    try:\n",
    "        %run \"ADS/q8.ipynb\"\n",
    "        (s1,s2,s3) = ThreePartition([4,6,5,3,9,8])\n",
    "        s1.sort()\n",
    "        s2.sort()\n",
    "        s3.sort()\n",
    "        assert s1==[3,4] and s2==[5,6] and s3==[8,9]\n",
    "        print (\"ThreePartition tests passed\")\n",
    "\n",
    "    except NameError:\n",
    "        print (\"The required function ThreePartition has not been found in q5.ipynb\")\n",
    "    except AssertionError:\n",
    "        print (\"The function ThreePartition did not return the correct result on the simple test input\")\n",
    "    except:\n",
    "        print(\"The function ThreeParition was found but something went wrong when it was tested\")\n",
    "\n",
    "    try:\n",
    "        %run \"ADS/q8.ipynb\"\n",
    "        assert HybridQuickMergeSort([1,2,20,18,16,14,12,10,8,6,4,3,5,7,9,11,13,15,17,19])==[1, 2, 3, 4, 5, 6, 7, 8, 9, 10, 11, 12, 13, 14, 15, 16, 17, 18, 19, 20]\n",
    "        print (\"HybridQuickMergeSort tests passed\")\n",
    "\n",
    "    except NameError:\n",
    "        print (\"The required function HybridQuickMergeSort has not been found in q5.ipynb\")\n",
    "    except AssertionError:\n",
    "        print (\"The function HybridQuickMergeSort did not return the correct result on the simple test input\")\n",
    "    except:\n",
    "        print(\"The function HybridQuickMergeSort was found but something went wrong when it was tested\")\n",
    "\n",
    "else:\n",
    "    print (\"can't find the file q8.ipynb\")\n"
   ]
  },
  {
   "cell_type": "code",
   "execution_count": null,
   "metadata": {},
   "outputs": [],
   "source": []
  }
 ],
 "metadata": {
  "kernelspec": {
   "display_name": "Python 3 (ipykernel)",
   "language": "python",
   "name": "python3"
  },
  "language_info": {
   "codemirror_mode": {
    "name": "ipython",
    "version": 3
   },
   "file_extension": ".py",
   "mimetype": "text/x-python",
   "name": "python",
   "nbconvert_exporter": "python",
   "pygments_lexer": "ipython3",
   "version": "3.9.7"
  }
 },
 "nbformat": 4,
 "nbformat_minor": 4
}
