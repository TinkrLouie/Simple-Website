{
 "cells": [
  {
   "cell_type": "code",
   "execution_count": null,
   "metadata": {},
   "outputs": [],
   "source": [
    "def arrayupdate(A):\n",
    "    a = Stack()\n",
    "    b = Stack()\n",
    "    A_ = []\n",
    "    count = 0\n",
    "    for x in A:\n",
    "        if a.isEmpty() is True:\n",
    "            A_.append(0)\n",
    "        elif a.top() < x:\n",
    "            A_.append(a.top())\n",
    "        else:\n",
    "            b.push(a.pop())\n",
    "            if a.isEmpty() is True:\n",
    "                A_.append(0)\n",
    "            else:\n",
    "                while a.isEmpty() is False:\n",
    "                    if a.top() < x:\n",
    "                        A_.append(a.top())\n",
    "                        break\n",
    "                    b.push(a.pop())\n",
    "                if a.isEmpty() is True:\n",
    "                    A_.append(0)\n",
    "            while b.isEmpty() is False:\n",
    "                a.push(b.pop())\n",
    "        a.push(x)\n",
    "        count += 1\n",
    "    return A_\n",
    "\n"
   ]
  }
 ],
 "metadata": {
  "language_info": {
   "name": "python"
  },
  "orig_nbformat": 4
 },
 "nbformat": 4,
 "nbformat_minor": 2
}
