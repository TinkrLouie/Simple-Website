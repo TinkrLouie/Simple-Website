{
 "cells": [
  {
   "cell_type": "code",
   "execution_count": null,
   "metadata": {},
   "outputs": [],
   "source": [
    "def hash(I):\n",
    "    h = Hash_Table(13)\n",
    "    positive = []\n",
    "    negative = []\n",
    "    for k in I:\n",
    "        k = int(k)\n",
    "        if k >= 0:\n",
    "            positive.append(k)\n",
    "        else:\n",
    "            negative.append(k)\n",
    "    for n in negative:\n",
    "        for p in positive:\n",
    "            if n + p == 0:\n",
    "                positive.remove(p)\n",
    "                break\n",
    "    positive = list(dict.fromkeys(positive))\n",
    "    for k in positive:\n",
    "        bucketnum = (2 * k + 4) % 13\n",
    "        m = h.lookup(bucketnum)\n",
    "        n = Node(k)\n",
    "        if m.size == 0:\n",
    "            m.head = n\n",
    "        if m.size != 0:\n",
    "            m.tail.next = n\n",
    "        m.tail = n\n",
    "        m.size += 1\n",
    "    h.print_table()\n",
    "    return h"
   ]
  }
 ],
 "metadata": {
  "kernelspec": {
   "display_name": "Python 3 (ipykernel)",
   "language": "python",
   "name": "python3"
  },
  "language_info": {
   "codemirror_mode": {
    "name": "ipython",
    "version": 3
   },
   "file_extension": ".py",
   "mimetype": "text/x-python",
   "name": "python",
   "nbconvert_exporter": "python",
   "pygments_lexer": "ipython3",
   "version": "3.9.7"
  }
 },
 "nbformat": 4,
 "nbformat_minor": 2
}
