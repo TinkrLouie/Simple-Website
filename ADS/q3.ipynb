{
 "cells": [
  {
   "cell_type": "code",
   "execution_count": null,
   "metadata": {},
   "outputs": [],
   "source": [
    "def chop(c):\n",
    "    # Naive approach on pattern searching, based on a algorithm on geeksforgeeks.org\n",
    "    def search_boolean(pat, txt):\n",
    "        M = len(pat)\n",
    "        N = len(txt)\n",
    "\n",
    "        for i in range(N - M + 1):\n",
    "            j = 0\n",
    "\n",
    "            while j < M:\n",
    "                if txt[i + j] != pat[j]:\n",
    "                    break\n",
    "                j += 1\n",
    "\n",
    "            if j == M:\n",
    "                return True\n",
    "\n",
    "    palindrome = []\n",
    "    count = 1\n",
    "    for i in range(1, len(c)):\n",
    "        for x in range(0, i):\n",
    "            palin = c[x:i + 1]\n",
    "            if c[x:i + 1] == palin[::-1]:\n",
    "                palindrome.append(c[x:i + 1])\n",
    "                count += 1\n",
    "    buffer = []\n",
    "    for i in palindrome:\n",
    "        for x in palindrome:\n",
    "            if i + x == c or search_boolean(i + x, c):\n",
    "                buffer.append(i+x)\n",
    "    count += len(set(buffer))\n",
    "    return count\n"
   ]
  }
 ],
 "metadata": {
  "language_info": {
   "name": "python"
  },
  "orig_nbformat": 4
 },
 "nbformat": 4,
 "nbformat_minor": 2
}
