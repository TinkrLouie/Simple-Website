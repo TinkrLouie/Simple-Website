{
 "cells": [
  {
   "cell_type": "code",
   "execution_count": null,
   "metadata": {},
   "outputs": [],
   "source": [
    "def brackets(s):\n",
    "    # Based on a combination of ideas on stackoverflow.com\n",
    "    elements = []\n",
    "\n",
    "    def bracket_state(start, fin):\n",
    "        if ((start == '{' and fin == '}') or\n",
    "                (start == '[' and fin == ']') or\n",
    "                (start == '(' and fin == ')') or\n",
    "                start == '*'):\n",
    "            return True\n",
    "        return False\n",
    "\n",
    "    def match(s, elements, idx):\n",
    "        if idx == len(s):\n",
    "            if len(elements) == 0:\n",
    "                return True\n",
    "            else:\n",
    "                return False\n",
    "        if s[idx] == '{' or s[idx] == '(' or s[idx] == '[':\n",
    "            elements.append(s[idx])\n",
    "            return match(s, elements, idx + 1)\n",
    "        elif s[idx] == '}' or s[idx] == ')' or s[idx] == ']':\n",
    "            if len(elements) == 0:\n",
    "                return False\n",
    "            topElement = elements[-1]\n",
    "            elements.pop()\n",
    "            if bracket_state(topElement, s[idx]) == 0:\n",
    "                return False\n",
    "            return match(s, elements, idx + 1)\n",
    "        elif s[idx] == '*':\n",
    "            ast = elements\n",
    "            ast.append(s[idx])\n",
    "            res = match(s, ast, idx + 1)\n",
    "            if res:\n",
    "                return True\n",
    "            if len(elements) == 0:\n",
    "                return False\n",
    "            elements.pop()\n",
    "            return match(s, elements, idx + 1)\n",
    "\n",
    "    return match(s, elements, 0)"
   ]
  }
 ],
 "metadata": {
  "language_info": {
   "name": "python"
  },
  "orig_nbformat": 4
 },
 "nbformat": 4,
 "nbformat_minor": 2
}
